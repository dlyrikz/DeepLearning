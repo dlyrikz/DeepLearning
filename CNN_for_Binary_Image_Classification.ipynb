{
  "nbformat": 4,
  "nbformat_minor": 0,
  "metadata": {
    "colab": {
      "name": "CNN for Binary Image Classification.ipynb",
      "provenance": [],
      "collapsed_sections": [],
      "toc_visible": true,
      "authorship_tag": "ABX9TyMdjFFzkSXn4MrgvGHHyL6y",
      "include_colab_link": true
    },
    "kernelspec": {
      "name": "python3",
      "display_name": "Python 3"
    },
    "accelerator": "TPU"
  },
  "cells": [
    {
      "cell_type": "markdown",
      "metadata": {
        "id": "view-in-github",
        "colab_type": "text"
      },
      "source": [
        "<a href=\"https://colab.research.google.com/github/dlyrikz/DeepLearning/blob/CNN/CNN_for_Binary_Image_Classification.ipynb\" target=\"_parent\"><img src=\"https://colab.research.google.com/assets/colab-badge.svg\" alt=\"Open In Colab\"/></a>"
      ]
    },
    {
      "cell_type": "code",
      "metadata": {
        "id": "NuJfDuveSMJK"
      },
      "source": [
        ""
      ],
      "execution_count": null,
      "outputs": []
    },
    {
      "cell_type": "markdown",
      "metadata": {
        "id": "z60QYOpySgw1"
      },
      "source": [
        "# Step 1: Installation and Setup\n"
      ]
    },
    {
      "cell_type": "code",
      "metadata": {
        "id": "3f_x6CTvSpHH"
      },
      "source": [
        "import tensorflow as tf\n",
        "import numpy as np\n",
        "import pandas as pd\n",
        "import matplotlib.pyplot as plt\n",
        "\n",
        "#print(tf.__version__)"
      ],
      "execution_count": null,
      "outputs": []
    },
    {
      "cell_type": "markdown",
      "metadata": {
        "id": "pWR3fTmjak_C"
      },
      "source": [
        "# Step 2: Importing Datrasets"
      ]
    },
    {
      "cell_type": "code",
      "metadata": {
        "id": "-xoWNG2fW7bz"
      },
      "source": [
        "# Installing Kaggle API\n",
        "! pip install kaggle"
      ],
      "execution_count": null,
      "outputs": []
    },
    {
      "cell_type": "code",
      "metadata": {
        "id": "g4natBnVXJ0l"
      },
      "source": [
        "# create a directory\n",
        "! mkdir -p ~/.kaggle"
      ],
      "execution_count": null,
      "outputs": []
    },
    {
      "cell_type": "code",
      "metadata": {
        "id": "XNYiMl1gXn3W"
      },
      "source": [
        "# Import API Key to Colab\n",
        "from google.colab import files\n",
        "uploaded = files.upload()"
      ],
      "execution_count": null,
      "outputs": []
    },
    {
      "cell_type": "code",
      "metadata": {
        "id": "36q7AWpMX8t1"
      },
      "source": [
        "# Copy key to kaggle directory\n",
        "! cp kaggle.json ~/.kaggle/"
      ],
      "execution_count": null,
      "outputs": []
    },
    {
      "cell_type": "code",
      "metadata": {
        "id": "eK-NImH7YUBY"
      },
      "source": [
        "# Disable API Key\n",
        "! chmod 600 /root/.kaggle/kaggle.json"
      ],
      "execution_count": null,
      "outputs": []
    },
    {
      "cell_type": "code",
      "metadata": {
        "id": "ETT7E9_kYlTt"
      },
      "source": [
        "# Check list of datasets\n",
        "! kaggle datasets list"
      ],
      "execution_count": null,
      "outputs": []
    },
    {
      "cell_type": "code",
      "metadata": {
        "id": "V7YrMo0SZIX5"
      },
      "source": [
        "# Importing datasets from Kaggle\n",
        "! kaggle datasets download -d tongpython/cat-and-dog"
      ],
      "execution_count": null,
      "outputs": []
    },
    {
      "cell_type": "code",
      "metadata": {
        "id": "3b2nz1qlZXdj"
      },
      "source": [
        "# Unzip dataset\n",
        "! unzip -q /content/cat-and-dog.zip"
      ],
      "execution_count": null,
      "outputs": []
    },
    {
      "cell_type": "markdown",
      "metadata": {
        "id": "6047RePOa6rw"
      },
      "source": [
        "# Step 3: Building the Model"
      ]
    },
    {
      "cell_type": "code",
      "metadata": {
        "id": "pVLfLA6sbArD"
      },
      "source": [
        "# Define an object\n",
        "model = tf.keras.models.Sequential()  # sequence of Layers"
      ],
      "execution_count": null,
      "outputs": []
    },
    {
      "cell_type": "code",
      "metadata": {
        "id": "h1E4-gU7zntL"
      },
      "source": [
        "# Adding 1st CNN layer (input layer)\n",
        "# 1) filters (kernel) = 64\n",
        "# 2) kernel size = 3 \n",
        "# 3) padding = same\n",
        "# 4) activation = ReLU\n",
        "# 5) input shape = (32, 32, 3)\n",
        "\n",
        "model.add(tf.keras.layers.Conv2D(filters=64, kernel_size=3, padding='same',activation='relu',input_shape=[32,32,3]))"
      ],
      "execution_count": null,
      "outputs": []
    },
    {
      "cell_type": "code",
      "metadata": {
        "id": "l3H0tZR62Pew"
      },
      "source": [
        "# Adding Max Pool Layer\n",
        "# 1) pool size = 2\n",
        "# 2) strides = 2\n",
        "# 3) padding = valid\n",
        "\n",
        "model.add(tf.keras.layers.MaxPool2D(pool_size=(2,2), strides=2, padding='valid'))"
      ],
      "execution_count": null,
      "outputs": []
    },
    {
      "cell_type": "code",
      "metadata": {
        "id": "iaxRxdN3cXZl"
      },
      "source": [
        "# Adding 2nd CNN layer\n",
        "# 1) filters (kernel) = 64\n",
        "# 2) kernel size = 3 \n",
        "# 3) padding = same\n",
        "# 4) activation = ReLU\n",
        "\n",
        "model.add(tf.keras.layers.Conv2D(filters=64, kernel_size=3, padding='same',activation='relu'))\n",
        "\n",
        "# Specify Max Pool Layer parameters\n",
        "# 1) pool size = 2\n",
        "# 2) strides = 2\n",
        "# 3) padding = valid\n",
        "\n",
        "model.add(tf.keras.layers.MaxPool2D(pool_size=(2,2), strides=2, padding='valid'))"
      ],
      "execution_count": null,
      "outputs": []
    },
    {
      "cell_type": "code",
      "metadata": {
        "id": "_Ruu0CObdFY7"
      },
      "source": [
        "# Adding the Flatten Layer  ** Converted array to vectors\n",
        "model.add(tf.keras.layers.Flatten())"
      ],
      "execution_count": null,
      "outputs": []
    },
    {
      "cell_type": "code",
      "metadata": {
        "id": "-vlTaceIdJME"
      },
      "source": [
        "# Adding the Dropout Layer\n",
        "model.add(tf.keras.layers.Dropout(0.4))"
      ],
      "execution_count": null,
      "outputs": []
    },
    {
      "cell_type": "code",
      "metadata": {
        "id": "znZGIPVs7fZZ"
      },
      "source": [
        "# Add the Fully Connected Layer\n",
        "model.add(tf.keras.layers.Dense(units=128, activation='relu'))"
      ],
      "execution_count": null,
      "outputs": []
    },
    {
      "cell_type": "code",
      "metadata": {
        "id": "IFeUMevw--Zl"
      },
      "source": [
        "# Add Output Layer\n",
        "# 1) units = 1\n",
        "model.add(tf.keras.layers.Dense(units=1, activation='sigmoid'))"
      ],
      "execution_count": null,
      "outputs": []
    },
    {
      "cell_type": "code",
      "metadata": {
        "id": "Z_lWnOQ7eCQ6"
      },
      "source": [
        "# Compiling the model\n",
        "# 1) Optimizer - adam, (minimize the loss function)\n",
        "# 2) loss function = binary__crossentropy (acts as guide to optimizer)\n",
        "# 3) matrices = sparse_categorical_accuracy  ***Tip for Binary use accuracy\n",
        "\n",
        "model.compile(optimizer='adam',loss='binary_crossentropy', metrics=['accuracy'])"
      ],
      "execution_count": null,
      "outputs": []
    },
    {
      "cell_type": "markdown",
      "metadata": {
        "id": "FQAotfAqfLaa"
      },
      "source": [
        "# Step 4: Fitting CNN to images"
      ]
    },
    {
      "cell_type": "code",
      "metadata": {
        "id": "6-6btdT9flpP"
      },
      "source": [
        "# Import image \n",
        "from tensorflow.keras.preprocessing.image import ImageDataGenerator"
      ],
      "execution_count": null,
      "outputs": []
    },
    {
      "cell_type": "code",
      "metadata": {
        "id": "L1bLuRE_gNoK"
      },
      "source": [
        "training_data_dir = '/content/training_set/training_set'\n",
        "test_data_dir = '/content/test_set/test_set'"
      ],
      "execution_count": null,
      "outputs": []
    },
    {
      "cell_type": "code",
      "metadata": {
        "id": "khrhKWjbgu8H"
      },
      "source": [
        "# Rescale the images\n",
        "datagen = ImageDataGenerator(rescale=1./255)"
      ],
      "execution_count": null,
      "outputs": []
    },
    {
      "cell_type": "code",
      "metadata": {
        "id": "GOwvvYIihCN2"
      },
      "source": [
        "training_set = datagen.flow_from_directory(directory=training_data_dir, target_size=(32,32), classes=['dogs','cats'],\n",
        "                                           class_mode='binary', batch_size=20)\n",
        "\n",
        "test_set = datagen.flow_from_directory(directory=test_data_dir, target_size=(32,32), classes=['dogs','cats'],\n",
        "                                           class_mode='binary', batch_size=20)"
      ],
      "execution_count": null,
      "outputs": []
    },
    {
      "cell_type": "code",
      "metadata": {
        "id": "vU62v5WEiT4P"
      },
      "source": [
        "len(training_set), len(test_set)"
      ],
      "execution_count": null,
      "outputs": []
    },
    {
      "cell_type": "code",
      "metadata": {
        "id": "ux0RxOE5iwE7"
      },
      "source": [
        "len(training_set) * 20, len(test_set) * 20"
      ],
      "execution_count": null,
      "outputs": []
    },
    {
      "cell_type": "code",
      "metadata": {
        "id": "iS4faFZJjOeD"
      },
      "source": [
        "# Training Model\n",
        "history = model.fit_generator(generator=training_set, steps_per_epoch=401, epochs=20, validation_data=test_set, validation_steps=102)"
      ],
      "execution_count": null,
      "outputs": []
    },
    {
      "cell_type": "markdown",
      "metadata": {
        "id": "AZe6dCqknsYL"
      },
      "source": [
        "# Step 5: Plotting the learning curve"
      ]
    },
    {
      "cell_type": "code",
      "metadata": {
        "id": "pvZuydtgnyN3"
      },
      "source": [
        "import matplotlib.patches as mpatches\n",
        "def learning_curve(history, epoch):\n",
        "\n",
        "  #training vs validation accuracy\n",
        "  epoch_range = range(1, epoch+1)\n",
        "  plt.plot(epoch_range, history.history['accuracy'], label='Train')\n",
        "  plt.plot(epoch_range, history.history['val_accuracy'], label='Accuracy')\n",
        "  plt.title('Model Accuracy')\n",
        "  plt.ylabel('accu')\n",
        "  plt.xlabel('times')\n",
        "  plt.legend(loc='upper left')\n",
        "  plt.show()\n",
        "\n",
        "  #training vs validation loss\n",
        "\n",
        "  epoch_range = range(1, epoch+1)\n",
        "  plt.plot(epoch_range, history.history['loss'], label=\"Train\")\n",
        "  plt.plot(epoch_range, history.history['val_loss'], label=\"Loss\")\n",
        "  plt.title('Model Loss')\n",
        "  plt.ylabel('loss')\n",
        "  plt.xlabel('epoch')\n",
        "  plt.legend(loc='upper left')\n",
        "  plt.show()"
      ],
      "execution_count": 66,
      "outputs": []
    },
    {
      "cell_type": "code",
      "metadata": {
        "id": "2AQ3fS11p85K",
        "outputId": "45cedadf-256a-4eca-a8df-e34c69d4ed30",
        "colab": {
          "base_uri": "https://localhost:8080/",
          "height": 573
        }
      },
      "source": [
        "learning_curve(history, 20)"
      ],
      "execution_count": 67,
      "outputs": [
        {
          "output_type": "display_data",
          "data": {
            "image/png": "[encoded data removed]",
            "text/plain": [
              "<Figure size 432x288 with 1 Axes>"
            ]
          },
          "metadata": {
            "tags": [],
            "needs_background": "light"
          }
        },
        {
          "output_type": "display_data",
          "data": {
            "image/png": "[encoded data removed]",
            "text/plain": [
              "<Figure size 432x288 with 1 Axes>"
            ]
          },
          "metadata": {
            "tags": [],
            "needs_background": "light"
          }
        }
      ]
    }
  ]
}