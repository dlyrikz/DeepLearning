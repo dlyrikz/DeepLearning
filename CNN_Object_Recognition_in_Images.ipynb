{
  "nbformat": 4,
  "nbformat_minor": 0,
  "metadata": {
    "colab": {
      "name": "CNN Object Recognition in Images.ipynb",
      "provenance": [],
      "collapsed_sections": [],
      "toc_visible": true,
      "authorship_tag": "ABX9TyNsbuFnMzdJa+KuF00gJ4h2",
      "include_colab_link": true
    },
    "kernelspec": {
      "name": "python3",
      "display_name": "Python 3"
    }
  },
  "cells": [
    {
      "cell_type": "markdown",
      "metadata": {
        "id": "view-in-github",
        "colab_type": "text"
      },
      "source": [
        "<a href=\"https://colab.research.google.com/github/dlyrikz/DeepLearning/blob/CNN/CNN_Object_Recognition_in_Images.ipynb\" target=\"_parent\"><img src=\"https://colab.research.google.com/assets/colab-badge.svg\" alt=\"Open In Colab\"/></a>"
      ]
    },
    {
      "cell_type": "code",
      "metadata": {
        "id": "ikiLIOxFqEy4"
      },
      "source": [
        ""
      ],
      "execution_count": null,
      "outputs": []
    },
    {
      "cell_type": "markdown",
      "metadata": {
        "id": "o8aoYOA9qtX-"
      },
      "source": [
        "# Step 1: Installation and Setup"
      ]
    },
    {
      "cell_type": "code",
      "metadata": {
        "id": "2EWT93Fjqx9C",
        "outputId": "a23cc1a3-f972-4db5-a10c-a738963ca1ea",
        "colab": {
          "base_uri": "https://localhost:8080/",
          "height": 35
        }
      },
      "source": [
        "# Install Tensorflow\n",
        "import tensorflow as tf\n",
        "import numpy as np\n",
        "import pandas as pd\n",
        "import matplotlib.pyplot as plt\n",
        "print(tf.__version__)"
      ],
      "execution_count": 3,
      "outputs": [
        {
          "output_type": "stream",
          "text": [
            "2.3.0\n"
          ],
          "name": "stdout"
        }
      ]
    },
    {
      "cell_type": "markdown",
      "metadata": {
        "id": "oHm73Jt7rZGL"
      },
      "source": [
        "# Step 2: Data Preprocessing"
      ]
    },
    {
      "cell_type": "code",
      "metadata": {
        "id": "z15tLCkUrdnw"
      },
      "source": [
        "# Import datasets\n",
        "from tensorflow.keras.datasets import cifar10"
      ],
      "execution_count": 5,
      "outputs": []
    },
    {
      "cell_type": "code",
      "metadata": {
        "id": "hqX3VUzmscZ8"
      },
      "source": [
        ""
      ],
      "execution_count": null,
      "outputs": []
    },
    {
      "cell_type": "code",
      "metadata": {
        "id": "Yv5AioiCI1C7"
      },
      "source": [
        "# Loading the dataset\n",
        "(x_train, y_train),(x_test, y_test) = cifar10.load_data()\n"
      ],
      "execution_count": null,
      "outputs": []
    },
    {
      "cell_type": "code",
      "metadata": {
        "id": "VcS82gW-ss7N"
      },
      "source": [
        "# Assign classes to array\n",
        "class_names = ['0: Airplane','1: Automobile', '2: Bird','3: Cat', '4: Deer','5: Dog', '6: Frog', '7: Horse', '8: Ship','9: Truck']\n",
        "print(class_names)"
      ],
      "execution_count": null,
      "outputs": []
    },
    {
      "cell_type": "code",
      "metadata": {
        "id": "mGG8uJVxualM",
        "outputId": "89586107-db92-4898-ea19-78c63febc57f",
        "colab": {
          "base_uri": "https://localhost:8080/",
          "height": 35
        }
      },
      "source": [
        "# Get the Range of the datasets\n",
        "\n",
        "x_train.max(), x_train.min(), x_train.mean()"
      ],
      "execution_count": 15,
      "outputs": [
        {
          "output_type": "execute_result",
          "data": {
            "text/plain": [
              "(255, 0, 120.70756512369792)"
            ]
          },
          "metadata": {
            "tags": []
          },
          "execution_count": 15
        }
      ]
    },
    {
      "cell_type": "code",
      "metadata": {
        "id": "RQiKPMwFuq_W",
        "outputId": "a58fb103-7d96-4c51-af1a-e56371d39116",
        "colab": {
          "base_uri": "https://localhost:8080/",
          "height": 35
        }
      },
      "source": [
        "y_train.max(), y_train.min()"
      ],
      "execution_count": 19,
      "outputs": [
        {
          "output_type": "execute_result",
          "data": {
            "text/plain": [
              "(9, 0)"
            ]
          },
          "metadata": {
            "tags": []
          },
          "execution_count": 19
        }
      ]
    },
    {
      "cell_type": "code",
      "metadata": {
        "id": "BezTCA1QvNxJ"
      },
      "source": [
        "# Normalize the images  -- Tip before training Machine Model NN learns faster\n",
        "x_train = x_train / 255.0\n",
        "x_test = x_test / 255.0"
      ],
      "execution_count": 17,
      "outputs": []
    },
    {
      "cell_type": "code",
      "metadata": {
        "id": "BmqAzw2EvsH0",
        "outputId": "e5676527-8a6a-4143-d816-0c993d0d35a3",
        "colab": {
          "base_uri": "https://localhost:8080/",
          "height": 35
        }
      },
      "source": [
        "# Recheck after normalization should be 0-1\n",
        "\n",
        "x_train.max(), x_train.min(), x_train.mean()\n"
      ],
      "execution_count": 18,
      "outputs": [
        {
          "output_type": "execute_result",
          "data": {
            "text/plain": [
              "(1.0, 0.0, 0.4733630004850874)"
            ]
          },
          "metadata": {
            "tags": []
          },
          "execution_count": 18
        }
      ]
    },
    {
      "cell_type": "code",
      "metadata": {
        "id": "6xrukBm1whLq",
        "outputId": "95b5cf86-a4cf-4955-eb73-089d99d3dfa5",
        "colab": {
          "base_uri": "https://localhost:8080/",
          "height": 35
        }
      },
      "source": [
        "# Check the shape\n",
        "x_train.shape, x_test.shape"
      ],
      "execution_count": 20,
      "outputs": [
        {
          "output_type": "execute_result",
          "data": {
            "text/plain": [
              "((50000, 32, 32, 3), (10000, 32, 32, 3))"
            ]
          },
          "metadata": {
            "tags": []
          },
          "execution_count": 20
        }
      ]
    },
    {
      "cell_type": "code",
      "metadata": {
        "id": "OgQ8xxxjwz7j",
        "outputId": "d6e62033-71a3-483c-dea8-1dd5fa9a4235",
        "colab": {
          "base_uri": "https://localhost:8080/",
          "height": 287
        }
      },
      "source": [
        "# Check single image\n",
        "plt.figure()\n",
        "plt.imshow(x_train[0])\n",
        "plt.colorbar()"
      ],
      "execution_count": 22,
      "outputs": [
        {
          "output_type": "execute_result",
          "data": {
            "text/plain": [
              "<matplotlib.colorbar.Colorbar at 0x7f39a8b9e940>"
            ]
          },
          "metadata": {
            "tags": []
          },
          "execution_count": 22
        },
        {
          "output_type": "display_data",
          "data": {
            "image/png": "[encoded data removed]",
            "text/plain": [
              "<Figure size 432x288 with 2 Axes>"
            ]
          },
          "metadata": {
            "tags": [],
            "needs_background": "light"
          }
        }
      ]
    },
    {
      "cell_type": "code",
      "metadata": {
        "id": "yV6LHcqdxIfs",
        "outputId": "b8e9811f-cceb-42f2-b6c7-847a11070139",
        "colab": {
          "base_uri": "https://localhost:8080/",
          "height": 35
        }
      },
      "source": [
        "# Verify the image\n",
        "y_train[0]"
      ],
      "execution_count": 30,
      "outputs": [
        {
          "output_type": "execute_result",
          "data": {
            "text/plain": [
              "array([6], dtype=uint8)"
            ]
          },
          "metadata": {
            "tags": []
          },
          "execution_count": 30
        }
      ]
    },
    {
      "cell_type": "code",
      "metadata": {
        "id": "7hXOR4bvyCeO",
        "outputId": "59ba0202-1a22-4c19-97bf-3d3db0e15da6",
        "colab": {
          "base_uri": "https://localhost:8080/",
          "height": 35
        }
      },
      "source": [
        "class_names[6]"
      ],
      "execution_count": 29,
      "outputs": [
        {
          "output_type": "execute_result",
          "data": {
            "application/vnd.google.colaboratory.intrinsic+json": {
              "type": "string"
            },
            "text/plain": [
              "'6: Frog'"
            ]
          },
          "metadata": {
            "tags": []
          },
          "execution_count": 29
        }
      ]
    },
    {
      "cell_type": "markdown",
      "metadata": {
        "id": "K7OOJNKEyv0B"
      },
      "source": [
        "# Step 3: Building ther CNN Model"
      ]
    },
    {
      "cell_type": "code",
      "metadata": {
        "id": "BOFmj45Ay25f"
      },
      "source": [
        ""
      ],
      "execution_count": 47,
      "outputs": []
    },
    {
      "cell_type": "code",
      "metadata": {
        "id": "krRO7XZxgJT6"
      },
      "source": [
        "# Define an object\n",
        "model = tf.keras.models.Sequential()  # sequence of Layers"
      ],
      "execution_count": 48,
      "outputs": []
    },
    {
      "cell_type": "code",
      "metadata": {
        "id": "h1E4-gU7zntL"
      },
      "source": [
        "# Adding 1st CNN layer\n",
        "# 1) filters (kernel) = 32\n",
        "# 2) kernel size = 3 \n",
        "# 3) padding = same\n",
        "# 4) activation = ReLU\n",
        "# 5) input shape = (32, 32, 3)\n",
        "\n",
        "model.add(tf.keras.layers.Conv2D(filters=32, kernel_size=3, padding='same',activation='relu',input_shape=[32,32,3]))"
      ],
      "execution_count": 49,
      "outputs": []
    },
    {
      "cell_type": "code",
      "metadata": {
        "id": "l3H0tZR62Pew"
      },
      "source": [
        "# Adding 2nd CNN layer\n",
        "# 1) filters (kernel) = 32\n",
        "# 2) kernel size = 3 \n",
        "# 3) padding = same\n",
        "# 4) activation = ReLU\n",
        "\n",
        "model.add(tf.keras.layers.Conv2D(filters=32, kernel_size=3, padding='same',activation='relu'))\n",
        "\n",
        "# Specify Max Pool Layer parameters\n",
        "# 1) pool size = 2\n",
        "# 2) strides = 2\n",
        "# 3) padding = valid\n",
        "\n",
        "model.add(tf.keras.layers.MaxPool2D(pool_size=2, strides=2, padding='valid'))\n",
        "\n"
      ],
      "execution_count": 50,
      "outputs": []
    },
    {
      "cell_type": "code",
      "metadata": {
        "id": "r6pDFojb5z3J"
      },
      "source": [
        "# Adding 3rd CNN layer\n",
        "# 1) filters (kernel) = 64\n",
        "# 2) kernel size = 3 \n",
        "# 3) padding = same\n",
        "# 4) activation = ReLU\n",
        "\n",
        "model.add(tf.keras.layers.Conv2D(filters=64, kernel_size=3, padding='same',activation='relu'))\n"
      ],
      "execution_count": 51,
      "outputs": []
    },
    {
      "cell_type": "code",
      "metadata": {
        "id": "n5vL-YYT6PeB"
      },
      "source": [
        "# Adding 4th CNN layer\n",
        "# 1) filters (kernel) = 64\n",
        "# 2) kernel size = 3 \n",
        "# 3) padding = same\n",
        "# 4) activation = ReLU\n",
        "\n",
        "model.add(tf.keras.layers.Conv2D(filters=64, kernel_size=3, padding='same',activation='relu'))\n",
        "\n",
        "# Specify Max Pool Layer parameters\n",
        "# 1) pool size = 2\n",
        "# 2) strides = 2\n",
        "# 3) padding = valid\n",
        "\n",
        "model.add(tf.keras.layers.MaxPool2D(pool_size=2, strides=2, padding='valid'))\n"
      ],
      "execution_count": 52,
      "outputs": []
    },
    {
      "cell_type": "code",
      "metadata": {
        "id": "-uRk99Zk63JE"
      },
      "source": [
        "# Adding the Dropout Layer\n",
        "model.add(tf.keras.layers.Dropout(0.4))"
      ],
      "execution_count": 53,
      "outputs": []
    },
    {
      "cell_type": "code",
      "metadata": {
        "id": "sjqrxUpD7DeO"
      },
      "source": [
        "# Adding the Flatten Layer  ** Converted array to vectors\n",
        "model.add(tf.keras.layers.Flatten())"
      ],
      "execution_count": 54,
      "outputs": []
    },
    {
      "cell_type": "code",
      "metadata": {
        "id": "znZGIPVs7fZZ"
      },
      "source": [
        "# Add the 1st Dense Layer (Fully Connected Layer)\n",
        "model.add(tf.keras.layers.Dense(units=128, activation='relu'))"
      ],
      "execution_count": 55,
      "outputs": []
    },
    {
      "cell_type": "code",
      "metadata": {
        "id": "IFeUMevw--Zl"
      },
      "source": [
        "# Add the 2nd Dense Layer (Output Layer)\n",
        "# 1) units = 10       *** 10 class_names outputs\n",
        "model.add(tf.keras.layers.Dense(units=10, activation='softmax'))\n"
      ],
      "execution_count": 56,
      "outputs": []
    },
    {
      "cell_type": "code",
      "metadata": {
        "id": "EXJGsUfL_n2q",
        "outputId": "e26b71eb-0e29-419b-8d37-559713ee4509",
        "colab": {
          "base_uri": "https://localhost:8080/",
          "height": 503
        }
      },
      "source": [
        "model.summary()"
      ],
      "execution_count": 57,
      "outputs": [
        {
          "output_type": "stream",
          "text": [
            "Model: \"sequential_1\"\n",
            "_________________________________________________________________\n",
            "Layer (type)                 Output Shape              Param #   \n",
            "=================================================================\n",
            "conv2d_7 (Conv2D)            (None, 32, 32, 32)        896       \n",
            "_________________________________________________________________\n",
            "conv2d_8 (Conv2D)            (None, 32, 32, 32)        9248      \n",
            "_________________________________________________________________\n",
            "max_pooling2d_2 (MaxPooling2 (None, 16, 16, 32)        0         \n",
            "_________________________________________________________________\n",
            "conv2d_9 (Conv2D)            (None, 16, 16, 64)        18496     \n",
            "_________________________________________________________________\n",
            "conv2d_10 (Conv2D)           (None, 16, 16, 64)        36928     \n",
            "_________________________________________________________________\n",
            "max_pooling2d_3 (MaxPooling2 (None, 8, 8, 64)          0         \n",
            "_________________________________________________________________\n",
            "dropout_1 (Dropout)          (None, 8, 8, 64)          0         \n",
            "_________________________________________________________________\n",
            "flatten_1 (Flatten)          (None, 4096)              0         \n",
            "_________________________________________________________________\n",
            "dense_2 (Dense)              (None, 128)               524416    \n",
            "_________________________________________________________________\n",
            "dense_3 (Dense)              (None, 10)                1290      \n",
            "=================================================================\n",
            "Total params: 591,274\n",
            "Trainable params: 591,274\n",
            "Non-trainable params: 0\n",
            "_________________________________________________________________\n"
          ],
          "name": "stdout"
        }
      ]
    },
    {
      "cell_type": "markdown",
      "metadata": {
        "id": "E_ZjSz-5AaJN"
      },
      "source": [
        "# Step 4: Training the Model"
      ]
    },
    {
      "cell_type": "code",
      "metadata": {
        "id": "Z0X5MxqDAz1r"
      },
      "source": [
        "# Compiling the model\n",
        "# 1) Optimizer - adam, (minimize the loss function)\n",
        "# 2) loss function = sparse_categorical_crossentropy (acts as guide to optimizer)\n",
        "# 3) matrices = sparse_categorical_accuracy  ***Tip for Binary use categorical_accuracy\n",
        "\n",
        "model.compile(optimizer='adam',loss='sparse_categorical_crossentropy', metrics=['sparse_categorical_accuracy'])"
      ],
      "execution_count": 58,
      "outputs": []
    },
    {
      "cell_type": "code",
      "metadata": {
        "id": "itUxr-OkBfH7",
        "outputId": "ec754e9a-ebf9-4609-b63c-642da8d9a083",
        "colab": {
          "base_uri": "https://localhost:8080/",
          "height": 401
        }
      },
      "source": [
        "# Training the Model\n",
        "\n",
        "# epochs means the number of times to train the model\n",
        "\n",
        "model.fit(x_train, y_train, batch_size=10, epochs=10)     "
      ],
      "execution_count": 59,
      "outputs": [
        {
          "output_type": "stream",
          "text": [
            "Epoch 1/10\n",
            "5000/5000 [==============================] - 304s 61ms/step - loss: 1.4354 - sparse_categorical_accuracy: 0.4774\n",
            "Epoch 2/10\n",
            "5000/5000 [==============================] - 305s 61ms/step - loss: 1.0209 - sparse_categorical_accuracy: 0.6354\n",
            "Epoch 3/10\n",
            "5000/5000 [==============================] - 319s 64ms/step - loss: 0.8784 - sparse_categorical_accuracy: 0.6896\n",
            "Epoch 4/10\n",
            "5000/5000 [==============================] - 317s 63ms/step - loss: 0.7920 - sparse_categorical_accuracy: 0.7195\n",
            "Epoch 5/10\n",
            "5000/5000 [==============================] - 313s 63ms/step - loss: 0.7270 - sparse_categorical_accuracy: 0.7437\n",
            "Epoch 6/10\n",
            "5000/5000 [==============================] - 301s 60ms/step - loss: 0.6804 - sparse_categorical_accuracy: 0.7605\n",
            "Epoch 7/10\n",
            "5000/5000 [==============================] - 301s 60ms/step - loss: 0.6336 - sparse_categorical_accuracy: 0.7778\n",
            "Epoch 8/10\n",
            "5000/5000 [==============================] - 301s 60ms/step - loss: 0.5950 - sparse_categorical_accuracy: 0.7906\n",
            "Epoch 9/10\n",
            "5000/5000 [==============================] - 298s 60ms/step - loss: 0.5668 - sparse_categorical_accuracy: 0.8007\n",
            "Epoch 10/10\n",
            "5000/5000 [==============================] - 297s 59ms/step - loss: 0.5371 - sparse_categorical_accuracy: 0.8118\n"
          ],
          "name": "stdout"
        },
        {
          "output_type": "execute_result",
          "data": {
            "text/plain": [
              "<tensorflow.python.keras.callbacks.History at 0x7f39a1c42c88>"
            ]
          },
          "metadata": {
            "tags": []
          },
          "execution_count": 59
        }
      ]
    },
    {
      "cell_type": "markdown",
      "metadata": {
        "id": "McivyzTZEvwG"
      },
      "source": [
        "# Step 5: Model Evaluation and Prediction"
      ]
    },
    {
      "cell_type": "code",
      "metadata": {
        "id": "-e64OGQBFBkx",
        "outputId": "4e61a23c-ebab-403d-c6ed-6c9fbdece2d2",
        "colab": {
          "base_uri": "https://localhost:8080/",
          "height": 55
        }
      },
      "source": [
        "# model evaluation\n",
        "test_loss, test_accuracy = model.evaluate(x_test, y_test)"
      ],
      "execution_count": 60,
      "outputs": [
        {
          "output_type": "stream",
          "text": [
            "313/313 [==============================] - 13s 42ms/step - loss: 0.7615 - sparse_categorical_accuracy: 0.7485\n"
          ],
          "name": "stdout"
        }
      ]
    },
    {
      "cell_type": "code",
      "metadata": {
        "id": "zudOEfA-FOm7",
        "outputId": "b45eb4ae-ecb9-4cd2-a6e8-52e2241472be",
        "colab": {
          "base_uri": "https://localhost:8080/",
          "height": 35
        }
      },
      "source": [
        "print('Test Accuracy: {}'.format(test_accuracy))"
      ],
      "execution_count": 61,
      "outputs": [
        {
          "output_type": "stream",
          "text": [
            "Test Accuracy: 0.7484999895095825\n"
          ],
          "name": "stdout"
        }
      ]
    },
    {
      "cell_type": "code",
      "metadata": {
        "id": "F270DX4jFPo8",
        "outputId": "d7274c80-7201-4523-d6ac-d96dcb20a261",
        "colab": {
          "base_uri": "https://localhost:8080/",
          "height": 35
        }
      },
      "source": [
        "# Model Prediction\n",
        "y_predict = model.predict_classes(x_test)\n",
        "\n",
        "y_predict[11], y_test[11]  # predicted output, actual output"
      ],
      "execution_count": 63,
      "outputs": [
        {
          "output_type": "execute_result",
          "data": {
            "text/plain": [
              "(9, array([9], dtype=uint8))"
            ]
          },
          "metadata": {
            "tags": []
          },
          "execution_count": 63
        }
      ]
    },
    {
      "cell_type": "code",
      "metadata": {
        "id": "dxzYL1X0FbQ0",
        "outputId": "01570a6b-483d-41ff-a37d-700848ad91ae",
        "colab": {
          "base_uri": "https://localhost:8080/",
          "height": 191
        }
      },
      "source": [
        "# Confusion Metrics\n",
        "from sklearn.metrics import confusion_matrix, accuracy_score\n",
        "cm = confusion_matrix(y_test, y_predict)\n",
        "print(cm)"
      ],
      "execution_count": 64,
      "outputs": [
        {
          "output_type": "stream",
          "text": [
            "[[798   8  51  18  24   3   4   7  48  39]\n",
            " [ 12 846   8   9   6   2  11   2  17  87]\n",
            " [ 73   1 654  55  72  37  67  26  10   5]\n",
            " [ 23   7  84 532  67 148  84  33  12  10]\n",
            " [ 14   3  89  44 722  16  60  41   8   3]\n",
            " [ 11   0  62 161  59 605  31  60   4   7]\n",
            " [  7   4  56  30  22   8 863   3   6   1]\n",
            " [ 19   2  41  28  74  39  11 780   1   5]\n",
            " [ 71  20  17  14   6   5   6   1 839  21]\n",
            " [ 26  48   7  17   5   3   7  11  30 846]]\n"
          ],
          "name": "stdout"
        }
      ]
    },
    {
      "cell_type": "code",
      "metadata": {
        "id": "LNyPUM8KFttf",
        "outputId": "a676f4d0-d673-41e5-ec85-d6b7e02bb37c",
        "colab": {
          "base_uri": "https://localhost:8080/",
          "height": 35
        }
      },
      "source": [
        "acc_cm = accuracy_score(y_test, y_predict)\n",
        "print(acc_cm)"
      ],
      "execution_count": 65,
      "outputs": [
        {
          "output_type": "stream",
          "text": [
            "0.7485\n"
          ],
          "name": "stdout"
        }
      ]
    }
  ]
}